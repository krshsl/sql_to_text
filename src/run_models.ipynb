{
 "cells": [
  {
   "cell_type": "markdown",
   "metadata": {},
   "source": [
    "## add your code here"
   ]
  },
  {
   "cell_type": "code",
   "execution_count": 1,
   "metadata": {},
   "outputs": [],
   "source": [
    "# use this to generate the data for the project\n",
    "! cd ..; python3 -m src.utils.clean"
   ]
  },
  {
   "cell_type": "code",
   "execution_count": 2,
   "metadata": {},
   "outputs": [],
   "source": [
    "# load the data\n",
    "import pandas as pd\n",
    "\n",
    "train_full = pd.read_json('../out/train.json', orient=\"split\")\n",
    "test_full = pd.read_json('../out/test.json', orient=\"split\")\n",
    "\n",
    "train_mini = pd.read_json('../out/train_mini.json', orient=\"split\")\n",
    "test_mini = pd.read_json('../out/test_mini.json', orient=\"split\")"
   ]
  },
  {
   "cell_type": "code",
   "execution_count": null,
   "metadata": {},
   "outputs": [],
   "source": []
  }
 ],
 "metadata": {
  "kernelspec": {
   "display_name": "Python 3",
   "language": "python",
   "name": "python3"
  },
  "language_info": {
   "codemirror_mode": {
    "name": "ipython",
    "version": 3
   },
   "file_extension": ".py",
   "mimetype": "text/x-python",
   "name": "python",
   "nbconvert_exporter": "python",
   "pygments_lexer": "ipython3",
   "version": "3.9.6"
  }
 },
 "nbformat": 4,
 "nbformat_minor": 2
}
