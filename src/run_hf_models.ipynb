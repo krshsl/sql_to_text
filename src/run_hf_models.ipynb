{
 "cells": [
  {
   "cell_type": "code",
   "execution_count": 1,
   "metadata": {
    "vscode": {
     "languageId": "bat"
    }
   },
   "outputs": [],
   "source": [
    "# use this to generate the data for the project\n",
    "! cd ..; python3 -m src.utils.clean"
   ]
  },
  {
   "cell_type": "code",
   "execution_count": 2,
   "metadata": {},
   "outputs": [],
   "source": [
    "# package imports\n",
    "import pandas as pd\n",
    "from dotenv import load_dotenv\n",
    "from pathlib import Path\n",
    "import os"
   ]
  },
  {
   "cell_type": "code",
   "execution_count": 3,
   "metadata": {},
   "outputs": [],
   "source": [
    "def read_json(file):\n",
    "    pdf = pd.read_json(file, orient='split')\n",
    "    pdf['prompt'] = pdf['query'].apply(lambda query: f\"Convert the following SQL query into a natural language question. Your response must be a single sentence in the form of a clear and concise question.\\n Query:{query}\")\n",
    "    pdf['ground_truth'] = pdf['question'].tolist()\n",
    "    pdf['completion'] = pdf['question'].tolist()\n",
    "    return pdf[['prompt', 'completion', 'ground_truth']]"
   ]
  },
  {
   "cell_type": "code",
   "execution_count": 4,
   "metadata": {},
   "outputs": [],
   "source": [
    "# load the data\n",
    "pd_train = read_json('../out/train_mini.json')\n",
    "pd_test = read_json('../out/test_mini.json')"
   ]
  },
  {
   "cell_type": "code",
   "execution_count": 5,
   "metadata": {},
   "outputs": [],
   "source": [
    "# global variables\n",
    "dotenv_path = Path('../prod.env')\n",
    "load_dotenv(dotenv_path=dotenv_path)\n",
    "os.environ['MODEL_DIR'] = os.path.abspath('../model')"
   ]
  },
  {
   "cell_type": "code",
   "execution_count": null,
   "metadata": {},
   "outputs": [],
   "source": [
    "# custom imports - autoreload reloads your functions when you change them\n",
    "%reload_ext autoreload\n",
    "%autoreload 2\n",
    "from data import DATASET\n",
    "from training import GRPO, SFT\n",
    "from llms import HF_PAYLOADS"
   ]
  },
  {
   "cell_type": "code",
   "execution_count": 6,
   "metadata": {},
   "outputs": [],
   "source": [
    "grpo = GRPO(HF_PAYLOADS.QWEN_05B, pd_train, pd_test)"
   ]
  },
  {
   "cell_type": "code",
   "execution_count": null,
   "metadata": {},
   "outputs": [],
   "source": [
    "grpo.train()"
   ]
  },
  {
   "cell_type": "code",
   "execution_count": null,
   "metadata": {},
   "outputs": [],
   "source": [
    "sft = SFT(HF_PAYLOADS.QWEN_05B, pd_train, pd_test)"
   ]
  },
  {
   "cell_type": "code",
   "execution_count": null,
   "metadata": {},
   "outputs": [],
   "source": [
    "sft.train()"
   ]
  },
  {
   "cell_type": "code",
   "execution_count": null,
   "metadata": {},
   "outputs": [],
   "source": [
    "# use this to clear cache!!\n",
    "from transformers import file_utils\n",
    "print(file_utils.default_cache_path)"
   ]
  }
 ],
 "metadata": {
  "kernelspec": {
   "display_name": ".venv",
   "language": "python",
   "name": "python3"
  },
  "language_info": {
   "codemirror_mode": {
    "name": "ipython",
    "version": 3
   },
   "file_extension": ".py",
   "mimetype": "text/x-python",
   "name": "python",
   "nbconvert_exporter": "python",
   "pygments_lexer": "ipython3",
   "version": "3.9.6"
  }
 },
 "nbformat": 4,
 "nbformat_minor": 2
}
